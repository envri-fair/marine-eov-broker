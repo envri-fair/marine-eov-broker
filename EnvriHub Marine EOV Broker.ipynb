{
 "cells": [
  {
   "cell_type": "markdown",
   "id": "b7c72676",
   "metadata": {},
   "source": [
    "# Marine EOV Broker\n",
    "\n"
   ]
  },
  {
   "cell_type": "code",
   "execution_count": 1,
   "id": "e9adae3a",
   "metadata": {},
   "outputs": [
    {
     "name": "stdout",
     "output_type": "stream",
     "text": [
      "['csv', 'geoJson', 'json', 'nc', 'ncCF', 'odvTxt']\n",
      "['EV_OXY', 'EV_SEATEMP', 'EV_SALIN']\n"
     ]
    }
   ],
   "source": [
    "from marine_eov_broker import MarineRiBroker\n",
    "import logging\n",
    "import matplotlib.pyplot as plt\n",
    "\n",
    "logger = logging.getLogger()\n",
    "logger.setLevel(logging.INFO)\n",
    "# logger.setLevel(logging.DEBUG)\n",
    "\n",
    "print(MarineRiBroker.ERDDAP_OUTPUT_FORMATS)\n",
    "print(MarineRiBroker.EOV_LIST)"
   ]
  },
  {
   "cell_type": "markdown",
   "id": "d84b2c9e",
   "metadata": {},
   "source": [
    "## Start the broker\n",
    "\n",
    "It will take some time (though it still needs improvements on performances). This is because the broker will :\n",
    "* load vocabularies upon startup\n",
    "* load erddap datasets metadata from all erddap servers\n",
    "\n",
    "\n",
    "**Question :**\n",
    "Do we want to work with all datasets on Erddap servers ? Or do we want to build a fixed list for them ?"
   ]
  },
  {
   "cell_type": "code",
   "execution_count": 2,
   "id": "fab5fc3f",
   "metadata": {
    "tags": []
   },
   "outputs": [
    {
     "name": "stderr",
     "output_type": "stream",
     "text": [
      "INFO:root:Querying vocabulary server for EOV : EV_OXY\n",
      "INFO:root:Querying vocabulary server for EOV : EV_SEATEMP\n",
      "INFO:root:Querying vocabulary server for EOV : EV_SALIN\n"
     ]
    },
    {
     "name": "stdout",
     "output_type": "stream",
     "text": [
      "CPU times: user 141 ms, sys: 0 ns, total: 141 ms\n",
      "Wall time: 8.44 s\n"
     ]
    }
   ],
   "source": [
    "%%time\n",
    "# broker = MarineRiBroker.MarineBroker()\n",
    "broker = MarineRiBroker.MarineBroker({\"https://www.ifremer.fr/erddap\": [\"ArgoFloats\"]})"
   ]
  },
  {
   "cell_type": "markdown",
   "id": "240149d1",
   "metadata": {
    "tags": []
   },
   "source": [
    "## Create a request to the broker :\n",
    "The user must provide the EOVs, min/max date/lat/lon, output format desired.\n",
    "\n",
    "When creating a query, the broker :\n",
    "* first looks at every dataset to see if they match any eov requested by the user\n",
    "* then checks if the datasets match the time/bbox requested by the user"
   ]
  },
  {
   "cell_type": "code",
   "execution_count": 3,
   "id": "3a51e770",
   "metadata": {},
   "outputs": [],
   "source": [
    "eovs_request = [\"EV_SALIN\", \"EV_OXY\", \"EV_SEATEMP\"]\n",
    "\n",
    "start_date = \"2022-01-16\"\n",
    "end_date = \"2022-01-17\"\n",
    "# North-east Atlantic Ocean\n",
    "min_lon = -40\n",
    "min_lat = 35\n",
    "max_lon = 2\n",
    "max_lat = 62\n",
    "\n",
    "# logger.setLevel(logging.DEBUG)"
   ]
  },
  {
   "cell_type": "code",
   "execution_count": 4,
   "id": "fb80b0b6",
   "metadata": {
    "scrolled": true,
    "tags": []
   },
   "outputs": [
    {
     "name": "stdout",
     "output_type": "stream",
     "text": [
      "CPU times: user 31.2 ms, sys: 0 ns, total: 31.2 ms\n",
      "Wall time: 1.45 s\n"
     ]
    }
   ],
   "source": [
    "%%time\n",
    "response = broker.submit_request(eovs_request, \n",
    "                                 start_date,\n",
    "                                 end_date,\n",
    "                                 min_lon,\n",
    "                                 min_lat,\n",
    "                                 max_lon,\n",
    "                                 max_lat,\n",
    "                                 \"nc\"\n",
    "                                 )"
   ]
  },
  {
   "cell_type": "markdown",
   "id": "b5456212",
   "metadata": {},
   "source": [
    "![EOV Broker in action](images/marine_eov_broker_mechanism.png)"
   ]
  },
  {
   "cell_type": "markdown",
   "id": "c874442c",
   "metadata": {},
   "source": [
    "## Results\n",
    "\n",
    "The interesting part !\n",
    "The broker provides a BrokerResponse object. It contains the variable **queries** which is a Pandas DataFrame.\n",
    "\n",
    "The pandas DataFrame contains all the global attributes, as well as query url and EOVs found."
   ]
  },
  {
   "cell_type": "code",
   "execution_count": 5,
   "id": "b81eb9e6",
   "metadata": {},
   "outputs": [
    {
     "data": {
      "text/html": [
       "<div>\n",
       "<style scoped>\n",
       "    .dataframe tbody tr th:only-of-type {\n",
       "        vertical-align: middle;\n",
       "    }\n",
       "\n",
       "    .dataframe tbody tr th {\n",
       "        vertical-align: top;\n",
       "    }\n",
       "\n",
       "    .dataframe thead th {\n",
       "        text-align: right;\n",
       "    }\n",
       "</style>\n",
       "<table border=\"1\" class=\"dataframe\">\n",
       "  <thead>\n",
       "    <tr style=\"text-align: right;\">\n",
       "      <th></th>\n",
       "      <th>query_url</th>\n",
       "      <th>cdm_altitude_proxy</th>\n",
       "      <th>cdm_data_type</th>\n",
       "      <th>cdm_profile_variables</th>\n",
       "      <th>cdm_trajectory_variables</th>\n",
       "      <th>Conventions</th>\n",
       "      <th>creator_email</th>\n",
       "      <th>creator_name</th>\n",
       "      <th>creator_url</th>\n",
       "      <th>defaultGraphQuery</th>\n",
       "      <th>...</th>\n",
       "      <th>summary</th>\n",
       "      <th>time_coverage_end</th>\n",
       "      <th>time_coverage_start</th>\n",
       "      <th>title</th>\n",
       "      <th>user_manual_version</th>\n",
       "      <th>Westernmost_Easting</th>\n",
       "      <th>query_object</th>\n",
       "      <th>EV_OXY</th>\n",
       "      <th>EV_SEATEMP</th>\n",
       "      <th>EV_SALIN</th>\n",
       "    </tr>\n",
       "  </thead>\n",
       "  <tbody>\n",
       "    <tr>\n",
       "      <th>ArgoFloats</th>\n",
       "      <td>https://www.ifremer.fr/erddap/tabledap/ArgoFlo...</td>\n",
       "      <td>pres</td>\n",
       "      <td>TrajectoryProfile</td>\n",
       "      <td>cycle_number, data_type, format_version, handb...</td>\n",
       "      <td>platform_number, project_name, pi_name, platfo...</td>\n",
       "      <td>Argo-3.1, CF-1.6, COARDS, ACDD-1.3</td>\n",
       "      <td>support@argo.net</td>\n",
       "      <td>Argo</td>\n",
       "      <td>https://argo.ucsd.edu/</td>\n",
       "      <td>longitude%2Clatitude%2Ctemp&amp;time&gt;=now-2d&amp;time&lt;...</td>\n",
       "      <td>...</td>\n",
       "      <td>Argo float vertical profiles from Coriolis Glo...</td>\n",
       "      <td>2026-12-27T14:48:20Z</td>\n",
       "      <td>1997-07-28T20:26:20Z</td>\n",
       "      <td>Argo Float Measurements</td>\n",
       "      <td>3.1</td>\n",
       "      <td>-179.99942</td>\n",
       "      <td>&lt;marine_eov_broker.MarineRiBroker.ErddapReques...</td>\n",
       "      <td>doxy</td>\n",
       "      <td>temp</td>\n",
       "      <td>psal</td>\n",
       "    </tr>\n",
       "  </tbody>\n",
       "</table>\n",
       "<p>1 rows × 39 columns</p>\n",
       "</div>"
      ],
      "text/plain": [
       "                                                    query_url  \\\n",
       "ArgoFloats  https://www.ifremer.fr/erddap/tabledap/ArgoFlo...   \n",
       "\n",
       "           cdm_altitude_proxy      cdm_data_type  \\\n",
       "ArgoFloats               pres  TrajectoryProfile   \n",
       "\n",
       "                                        cdm_profile_variables  \\\n",
       "ArgoFloats  cycle_number, data_type, format_version, handb...   \n",
       "\n",
       "                                     cdm_trajectory_variables  \\\n",
       "ArgoFloats  platform_number, project_name, pi_name, platfo...   \n",
       "\n",
       "                                   Conventions     creator_email creator_name  \\\n",
       "ArgoFloats  Argo-3.1, CF-1.6, COARDS, ACDD-1.3  support@argo.net         Argo   \n",
       "\n",
       "                       creator_url  \\\n",
       "ArgoFloats  https://argo.ucsd.edu/   \n",
       "\n",
       "                                            defaultGraphQuery  ...  \\\n",
       "ArgoFloats  longitude%2Clatitude%2Ctemp&time>=now-2d&time<...  ...   \n",
       "\n",
       "                                                      summary  \\\n",
       "ArgoFloats  Argo float vertical profiles from Coriolis Glo...   \n",
       "\n",
       "               time_coverage_end   time_coverage_start  \\\n",
       "ArgoFloats  2026-12-27T14:48:20Z  1997-07-28T20:26:20Z   \n",
       "\n",
       "                              title user_manual_version Westernmost_Easting  \\\n",
       "ArgoFloats  Argo Float Measurements                 3.1          -179.99942   \n",
       "\n",
       "                                                 query_object EV_OXY  \\\n",
       "ArgoFloats  <marine_eov_broker.MarineRiBroker.ErddapReques...   doxy   \n",
       "\n",
       "           EV_SEATEMP EV_SALIN  \n",
       "ArgoFloats       temp     psal  \n",
       "\n",
       "[1 rows x 39 columns]"
      ]
     },
     "execution_count": 5,
     "metadata": {},
     "output_type": "execute_result"
    }
   ],
   "source": [
    "response.queries"
   ]
  },
  {
   "cell_type": "markdown",
   "id": "9713d73f",
   "metadata": {},
   "source": [
    "**Get datasets ID**"
   ]
  },
  {
   "cell_type": "code",
   "execution_count": 6,
   "id": "7f127a89",
   "metadata": {},
   "outputs": [
    {
     "name": "stdout",
     "output_type": "stream",
     "text": [
      "Found datasets IDs : ['SDC_NAT_CLIM_TS_V2_050_m', 'Emso_Azores_Chemini_IRON', 'SDC_GLO_AGG_V2', 'ArgoFloats-synthetic-BGC', 'ArgoFloats']\n"
     ]
    }
   ],
   "source": [
    "print(f\"Found datasets IDs : {response.get_datasets_list()}\")"
   ]
  },
  {
   "cell_type": "markdown",
   "id": "37b9196d",
   "metadata": {},
   "source": [
    "### Access a dataset with its dataset ID"
   ]
  },
  {
   "cell_type": "code",
   "execution_count": 6,
   "id": "d761f646",
   "metadata": {},
   "outputs": [
    {
     "name": "stdout",
     "output_type": "stream",
     "text": [
      "Selected dataset: ArgoFloats\n"
     ]
    }
   ],
   "source": [
    "dataset_id = response.get_datasets_list()[4]\n",
    "print(f\"Selected dataset: {dataset_id}\")"
   ]
  },
  {
   "cell_type": "markdown",
   "id": "fe6567e9",
   "metadata": {},
   "source": [
    "### Get the description of the EOVs found variables in the dataset"
   ]
  },
  {
   "cell_type": "code",
   "execution_count": null,
   "id": "3885030a",
   "metadata": {},
   "outputs": [],
   "source": [
    "response.get_dataset_EOVs_list(dataset_id)"
   ]
  },
  {
   "cell_type": "markdown",
   "id": "36fbbce9",
   "metadata": {},
   "source": [
    "### Get the query URL for the dataset ID"
   ]
  },
  {
   "cell_type": "code",
   "execution_count": null,
   "id": "790deeb3",
   "metadata": {},
   "outputs": [],
   "source": [
    "response.get_dataset_query_url(dataset_id)"
   ]
  },
  {
   "cell_type": "markdown",
   "id": "7ee3c65c",
   "metadata": {},
   "source": [
    "### Get the selected dataset as a Pandas DataFrame..."
   ]
  },
  {
   "cell_type": "code",
   "execution_count": 11,
   "id": "b9ab417a",
   "metadata": {},
   "outputs": [
    {
     "data": {
      "text/plain": [
       "row\n",
       "0       6901135\n",
       "51      6901136\n",
       "100     6901150\n",
       "154     1901212\n",
       "271     4901413\n",
       "349     5902302\n",
       "452     6900324\n",
       "513     6900966\n",
       "609     6900968\n",
       "704     6901237\n",
       "774     6901238\n",
       "845     6901413\n",
       "940     6901519\n",
       "1300    6901597\n",
       "1456    4901109\n",
       "1528    4901133\n",
       "1599    4901194\n",
       "1700    6901572\n",
       "Name: platform_number, dtype: object"
      ]
     },
     "execution_count": 11,
     "metadata": {},
     "output_type": "execute_result"
    }
   ],
   "source": [
    "# df = response.dataset_to_pandas_dataframe(dataset_id)\n",
    "# df\n",
    "response.queries.loc[\"ArgoFloats\"].query_object.to_xarray().to_dataframe()[\"platform_number\"].drop_duplicates()"
   ]
  },
  {
   "cell_type": "markdown",
   "id": "4f66ce44",
   "metadata": {},
   "source": [
    "### ... or an Xarray dataset"
   ]
  },
  {
   "cell_type": "code",
   "execution_count": null,
   "id": "5e2cd0e0",
   "metadata": {},
   "outputs": [],
   "source": [
    "ds = response.dataset_to_xarray(dataset_id)\n",
    "ds"
   ]
  },
  {
   "cell_type": "markdown",
   "id": "3f7fb955",
   "metadata": {},
   "source": [
    "### Download a dataset as a NetCDF file"
   ]
  },
  {
   "cell_type": "code",
   "execution_count": null,
   "id": "2ae5ff7e",
   "metadata": {},
   "outputs": [],
   "source": [
    "response.dataset_to_file_download(dataset_id, \"nc\")"
   ]
  }
 ],
 "metadata": {
  "kernelspec": {
   "display_name": "Python 3 (ipykernel)",
   "language": "python",
   "name": "python3"
  },
  "language_info": {
   "codemirror_mode": {
    "name": "ipython",
    "version": 3
   },
   "file_extension": ".py",
   "mimetype": "text/x-python",
   "name": "python",
   "nbconvert_exporter": "python",
   "pygments_lexer": "ipython3",
   "version": "3.10.6"
  }
 },
 "nbformat": 4,
 "nbformat_minor": 5
}

{
 "cells": [
  {
   "cell_type": "markdown",
   "id": "f8875214-ac93-4558-9f1c-e54b30e5c905",
   "metadata": {},
   "source": [
    "# Marine EOV Broker\n",
    "\n"
   ]
  },
  {
   "cell_type": "code",
   "execution_count": null,
   "id": "4d4d7ebf-0a36-4dd4-8906-425148370c3f",
   "metadata": {},
   "outputs": [],
   "source": [
    "from marine_eov_broker import MarineRiBroker\n",
    "import logging\n",
    "import matplotlib.pyplot as plt\n",
    "\n",
    "logger = logging.getLogger()\n",
    "logger.setLevel(logging.INFO)\n",
    "# logger.setLevel(logging.DEBUG)\n",
    "\n",
    "print(MarineRiBroker.ERDDAP_OUTPUT_FORMATS)\n",
    "print(MarineRiBroker.EOV_LIST)"
   ]
  },
  {
   "cell_type": "markdown",
   "id": "4c8143af-847d-410a-aef3-c288de9feba6",
   "metadata": {},
   "source": [
    "## Start the broker\n",
    "\n",
    "It will take some time (though it still needs improvements on performances). This is because the broker will :\n",
    "* load vocabularies upon startup\n",
    "* load erddap datasets metadata from all erddap servers\n",
    "\n",
    "\n",
    "**Question :**\n",
    "Do we want to work with all datasets on Erddap servers ? Or do we want to build a fixed list for them ?"
   ]
  },
  {
   "cell_type": "code",
   "execution_count": null,
   "id": "652d9ba7-0766-4e51-bdc8-b73b971baaf2",
   "metadata": {
    "tags": []
   },
   "outputs": [],
   "source": [
    "%%time\n",
    "broker = MarineRiBroker.MarineBroker()"
   ]
  },
  {
   "cell_type": "markdown",
   "id": "941c4739-a664-4ceb-a83a-8373dd4c8286",
   "metadata": {
    "tags": []
   },
   "source": [
    "## Create a request to the broker :\n",
    "The user must provide the EOVs, min/max date/lat/lon, output format desired.\n",
    "\n",
    "When creating a query, the broker :\n",
    "* first looks at every dataset to see if they match any eov requested by the user\n",
    "* then checks if the datasets match the time/bbox requested by the user"
   ]
  },
  {
   "cell_type": "code",
   "execution_count": null,
   "id": "7c66176a-3301-4d07-a2bb-9b5b8a5e5161",
   "metadata": {},
   "outputs": [],
   "source": [
    "start_date = \"2018-01-01\"\n",
    "end_date = \"2018-01-15\"\n",
    "# North-east Atlantic Ocean\n",
    "min_lon = -30\n",
    "min_lat = 41\n",
    "max_lon = 2\n",
    "max_lat = 62\n",
    "\n",
    "#logger.setLevel(logging.DEBUG)"
   ]
  },
  {
   "cell_type": "code",
   "execution_count": null,
   "id": "512227b8-ff79-439f-9b3a-7b80f96b458e",
   "metadata": {
    "tags": []
   },
   "outputs": [],
   "source": [
    "%%time\n",
    "response = broker.submit_request([\"EV_SALIN\", \"EV_OXY\", \"EV_SEATEMP\", \"EV_CO2\", \"EV_CHLA\"], \n",
    "                                 start_date,\n",
    "                                 end_date,\n",
    "                                 min_lon,\n",
    "                                 min_lat,\n",
    "                                 max_lon,\n",
    "                                 max_lat,\n",
    "                                 \"nc\"\n",
    "                                 )"
   ]
  },
  {
   "cell_type": "markdown",
   "id": "10842554-5a2f-4264-a7e3-0aba99a141b9",
   "metadata": {},
   "source": [
    "![EOV Broker in action](images/marine_eov_broker_mechanism.png)"
   ]
  },
  {
   "cell_type": "markdown",
   "id": "6e37c937-ab8e-4dd0-9d9c-81218a2dc78d",
   "metadata": {},
   "source": [
    "## Results\n",
    "\n",
    "The interesting part !\n",
    "The broker provides a BrokerResponse object. It contains the variable **queries** which is a Pandas DataFrame.\n",
    "\n",
    "The pandas DataFrame contains all the global attributes, query URL and ErddapRequest object for each dataset found for the user request."
   ]
  },
  {
   "cell_type": "code",
   "execution_count": null,
   "id": "913f6880-0aea-424b-bc52-0b085fe9c272",
   "metadata": {},
   "outputs": [],
   "source": [
    "response.queries"
   ]
  },
  {
   "cell_type": "markdown",
   "id": "c2235907-a94f-4179-a02d-5f46a1dd167e",
   "metadata": {},
   "source": [
    "**Or just the list of datasets ID**"
   ]
  },
  {
   "cell_type": "code",
   "execution_count": null,
   "id": "f64edbb7-8d81-42f4-be0f-e6fb25fe9c58",
   "metadata": {},
   "outputs": [],
   "source": [
    "response.get_datasets_list()"
   ]
  },
  {
   "cell_type": "markdown",
   "id": "f2ca656c-1043-4b7b-8597-855e424f1afa",
   "metadata": {},
   "source": [
    "### Access a dataset with its dataset ID"
   ]
  },
  {
   "cell_type": "code",
   "execution_count": null,
   "id": "2d62a6a1-528c-4f20-9313-c48c1ff63182",
   "metadata": {},
   "outputs": [],
   "source": [
    "dataset_id = response.get_datasets_list()[0]\n",
    "print(dataset_id)"
   ]
  },
  {
   "cell_type": "markdown",
   "id": "04babf1e-b35e-415a-a283-85fc63f1182e",
   "metadata": {},
   "source": [
    "### Get the description of the EOVs found variables in the dataset"
   ]
  },
  {
   "cell_type": "code",
   "execution_count": null,
   "id": "af4dad2a-c839-4a1d-a2d4-4ed5d9ee98ad",
   "metadata": {},
   "outputs": [],
   "source": [
    "response.get_dataset_EOVs_list(dataset_id)"
   ]
  },
  {
   "cell_type": "markdown",
   "id": "a025079c-b543-416b-8152-8b508535cad6",
   "metadata": {},
   "source": [
    "### Get the query URL for the dataset ID"
   ]
  },
  {
   "cell_type": "code",
   "execution_count": null,
   "id": "2e7242cc-565d-4c83-9548-731b89185dce",
   "metadata": {},
   "outputs": [],
   "source": [
    "response.get_dataset_query_url(dataset_id)"
   ]
  },
  {
   "cell_type": "markdown",
   "id": "5f33ed74-a933-475a-911d-17b4310c305e",
   "metadata": {},
   "source": [
    "### Execute a query & get the result as a Pandas DataFrame..."
   ]
  },
  {
   "cell_type": "code",
   "execution_count": null,
   "id": "518589e3-a08e-4d79-ab5d-fdb06c06ce08",
   "metadata": {},
   "outputs": [],
   "source": [
    "df = response.dataset_to_pandas_dataframe(dataset_id)\n",
    "df"
   ]
  },
  {
   "cell_type": "markdown",
   "id": "3ce224ee-ce00-46fc-a402-c710f691160d",
   "metadata": {},
   "source": [
    "### ... or an Xarray dataset"
   ]
  },
  {
   "cell_type": "code",
   "execution_count": null,
   "id": "afa37447-f7b6-486a-a057-834ab6fa2def",
   "metadata": {},
   "outputs": [],
   "source": [
    "ds = response.dataset_to_xarray(dataset_id)\n",
    "ds"
   ]
  },
  {
   "cell_type": "markdown",
   "id": "a0c7e9e9-5e91-42ed-b578-91b95cf895ff",
   "metadata": {},
   "source": [
    "### Only retrieve a specific EOV :"
   ]
  },
  {
   "cell_type": "code",
   "execution_count": null,
   "id": "c8f8988e-0949-4c05-849f-2441e43388a5",
   "metadata": {},
   "outputs": [],
   "source": [
    "ds = response.dataset_to_pandas_dataframe(dataset_id, \"EV_OXY\")\n",
    "ds"
   ]
  },
  {
   "cell_type": "markdown",
   "id": "91abe555-63a5-42cd-9f92-67791af69964",
   "metadata": {},
   "source": [
    "### Download a dataset as a NetCDF file"
   ]
  },
  {
   "cell_type": "code",
   "execution_count": null,
   "id": "5c14368e-d9bc-4a29-84dc-0d8f221b83f8",
   "metadata": {},
   "outputs": [],
   "source": [
    "response.dataset_to_file_download(dataset_id, \"nc\")"
   ]
  }
 ],
 "metadata": {
  "kernelspec": {
   "display_name": "Python [conda env:test_eov_demonstrator]",
   "language": "python",
   "name": "conda-env-test_eov_demonstrator-py"
  },
  "language_info": {
   "codemirror_mode": {
    "name": "ipython",
    "version": 3
   },
   "file_extension": ".py",
   "mimetype": "text/x-python",
   "name": "python",
   "nbconvert_exporter": "python",
   "pygments_lexer": "ipython3",
   "version": "3.10.2"
  }
 },
 "nbformat": 4,
 "nbformat_minor": 5
}
